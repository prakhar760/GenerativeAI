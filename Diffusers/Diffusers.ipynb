{
  "cells": [
    {
      "cell_type": "markdown",
      "metadata": {
        "colab_type": "text",
        "id": "view-in-github"
      },
      "source": [
        "<a href=\"https://colab.research.google.com/github/prakhar760/GenerativeAI/blob/main/Diffusers/Diffusers.ipynb\" target=\"_parent\"><img src=\"https://colab.research.google.com/assets/colab-badge.svg\" alt=\"Open In Colab\"/></a>"
      ]
    },
    {
      "cell_type": "code",
      "execution_count": null,
      "metadata": {
        "id": "KZs-1ZkanefE"
      },
      "outputs": [],
      "source": [
        "# install diffusers\n",
        "!pip install --upgrade jupyter\n",
        "!pip install --upgrade ipywidgets\n",
        "!pip install diffusers==0.11.1"
      ]
    },
    {
      "cell_type": "code",
      "execution_count": null,
      "metadata": {
        "id": "qm2vSEhnntty"
      },
      "outputs": [],
      "source": [
        "# use the google/ddpm-celebahq-256 model, built in collaboration by Google and U.C.Berkeley. It's a model following the Denoising Diffusion Probabilistic Models (DDPM) algorithm trained on a dataset of celebrities images. We can import the DDPMPipeline, which will allow you to do inference with a couple of lines of code.\n",
        "from diffusers import DDPMPipeline"
      ]
    },
    {
      "cell_type": "code",
      "execution_count": null,
      "metadata": {
        "id": "JTrs6tlIqV8n"
      },
      "outputs": [],
      "source": [
        "# The from_pretrained() method allows downloading the model and its configuration from the Hugging Face Hub\n",
        "image_pipe = DDPMPipeline.from_pretrained(\"google/ddpm-celebahq-256\")\n",
        "image_pipe.to(\"cuda\")"
      ]
    },
    {
      "cell_type": "code",
      "execution_count": null,
      "metadata": {
        "id": "7puD4qWxnyG5"
      },
      "outputs": [],
      "source": [
        "# To generate an image, we simply run the pipeline and don't even need to give it any input, it will generate a random initial noise sample and then iterate the diffusion process.\n",
        "images = image_pipe().images"
      ]
    },
    {
      "cell_type": "code",
      "execution_count": null,
      "metadata": {
        "id": "AmNFtbH_n5AC"
      },
      "outputs": [],
      "source": [
        "# print the generated image.\n",
        "images[0]"
      ]
    },
    {
      "cell_type": "code",
      "execution_count": null,
      "metadata": {
        "id": "JdUfAPhqn5o9"
      },
      "outputs": [],
      "source": [
        "# to view pipeline configurations.\n",
        "image_pipe"
      ]
    },
    {
      "cell_type": "code",
      "execution_count": null,
      "metadata": {
        "id": "V8VzDigSn_hF"
      },
      "outputs": [],
      "source": [
        "# load a simple unconditional image generation model of type UNet2DModel which was released with the DDPM Paper and for instance take a look at another checkpoint trained on church images: google/ddpm-church-256.\n",
        "from diffusers import UNet2DModel\n",
        "\n",
        "repo_id = \"google/ddpm-church-256\"\n",
        "model = UNet2DModel.from_pretrained(repo_id)"
      ]
    },
    {
      "cell_type": "code",
      "execution_count": null,
      "metadata": {
        "id": "meodtO_4oGv-"
      },
      "outputs": [],
      "source": [
        "# to view model configuration\n",
        "model.config"
      ]
    },
    {
      "cell_type": "code",
      "execution_count": null,
      "metadata": {
        "id": "8enHx5XdoKd1"
      },
      "outputs": [],
      "source": [
        "# pass the config as an unpacked dict to the UNet2DModel class\n",
        "model_random = UNet2DModel(**model.config)"
      ]
    },
    {
      "cell_type": "code",
      "execution_count": null,
      "metadata": {
        "id": "iIkumejooN_S"
      },
      "outputs": [],
      "source": [
        "# save the created model\n",
        "model_random.save_pretrained(\"my_model\")"
      ]
    },
    {
      "cell_type": "code",
      "execution_count": null,
      "metadata": {
        "id": "ndPZ1ZD6odym"
      },
      "outputs": [],
      "source": [
        "# a random gaussian sample in the shape of an image (batch_size × in_channels × sample_size × sample_size). We have a batch axis because a model can receive multiple random noises, a channel axis because each one consists of multiple channels (such as red-green-blue), and finally sample_size corresponds to the height and width\n",
        "import torch\n",
        "\n",
        "torch.manual_seed(0)\n",
        "\n",
        "noisy_sample = torch.randn(\n",
        "    1, model.config.in_channels, model.config.sample_size, model.config.sample_size\n",
        ")\n",
        "noisy_sample.shape"
      ]
    },
    {
      "cell_type": "code",
      "execution_count": null,
      "metadata": {
        "id": "3rHdqVpWohT-"
      },
      "outputs": [],
      "source": [
        "with torch.no_grad():\n",
        "    noisy_residual = model(sample=noisy_sample, timestep=2).sample"
      ]
    },
    {
      "cell_type": "code",
      "execution_count": null,
      "metadata": {
        "id": "qFAhxyAZoril"
      },
      "outputs": [],
      "source": [
        "# The predicted noisy_residual has the exact same shape as the input and we use it to compute a slightly less noised image. Let's confirm the output shapes match\n",
        "noisy_residual.shape"
      ]
    },
    {
      "cell_type": "code",
      "execution_count": null,
      "metadata": {
        "id": "K8muDSILowji"
      },
      "outputs": [],
      "source": [
        "# load DDPMScheduler\n",
        "from diffusers import DDPMScheduler\n",
        "\n",
        "scheduler = DDPMScheduler.from_config(repo_id)"
      ]
    },
    {
      "cell_type": "code",
      "execution_count": null,
      "metadata": {
        "id": "dCp9uFwYo08w"
      },
      "outputs": [],
      "source": [
        "scheduler.config"
      ]
    },
    {
      "cell_type": "code",
      "execution_count": null,
      "metadata": {
        "id": "PKBqqhIpo3lq"
      },
      "outputs": [],
      "source": [
        "# Like the models, schedulers can be saved and loaded with save_config() and from_config().\n",
        "scheduler.save_config(\"my_scheduler\")\n",
        "new_scheduler = DDPMScheduler.from_config(\"my_scheduler\")"
      ]
    },
    {
      "cell_type": "code",
      "execution_count": null,
      "metadata": {
        "id": "nrP8MLNSo6I1"
      },
      "outputs": [],
      "source": [
        "less_noisy_sample = scheduler.step(\n",
        "    model_output=noisy_residual, timestep=2, sample=noisy_sample\n",
        ").prev_sample\n",
        "less_noisy_sample.shape"
      ]
    },
    {
      "cell_type": "code",
      "execution_count": null,
      "metadata": {
        "id": "eegYe8Uso_1Z"
      },
      "outputs": [],
      "source": [
        "# define a display function that takes care of post-processing the denoised image, convert it to a PIL.Image and displays it.\n",
        "import PIL.Image\n",
        "import numpy as np\n",
        "\n",
        "def display_sample(sample, i):\n",
        "    image_processed = sample.cpu().permute(0, 2, 3, 1)\n",
        "    image_processed = (image_processed + 1.0) * 127.5\n",
        "    image_processed = image_processed.numpy().astype(np.uint8)\n",
        "\n",
        "    image_pil = PIL.Image.fromarray(image_processed[0])\n",
        "    display(f\"Image at step {i}\")\n",
        "    display(image_pil)"
      ]
    },
    {
      "cell_type": "code",
      "execution_count": null,
      "metadata": {
        "id": "yzLTACjopAvd"
      },
      "outputs": [],
      "source": [
        "# move the input and model to the GPU to speed up the denoising process a bit.\n",
        "model.to(\"cuda\")\n",
        "noisy_sample = noisy_sample.to(\"cuda\")"
      ]
    },
    {
      "cell_type": "code",
      "execution_count": null,
      "metadata": {
        "id": "FkGReNwrpFuA"
      },
      "outputs": [],
      "source": [
        "# define the denoising loop. This loop prints out the (less and less) noisy samples along the way for better visualization in the denoising loop.\n",
        "import tqdm\n",
        "\n",
        "sample = noisy_sample\n",
        "\n",
        "for i, t in enumerate(tqdm.tqdm(scheduler.timesteps)):\n",
        "  # 1. predict noise residual\n",
        "  with torch.no_grad():\n",
        "      residual = model(sample, t).sample\n",
        "\n",
        "  # 2. compute less noisy image and set x_t -> x_t-1\n",
        "  sample = scheduler.step(residual, t, sample).prev_sample\n",
        "\n",
        "  # 3. optionally look at image\n",
        "  if (i + 1) % 50 == 0:\n",
        "      display_sample(sample, i + 1)"
      ]
    },
    {
      "cell_type": "code",
      "execution_count": null,
      "metadata": {
        "id": "xCbxj4SmpGlW"
      },
      "outputs": [],
      "source": [
        "# load DDIMScheduler\n",
        "from diffusers import DDIMScheduler\n",
        "\n",
        "scheduler = DDIMScheduler.from_config(repo_id)"
      ]
    },
    {
      "cell_type": "code",
      "execution_count": null,
      "metadata": {
        "id": "leXyOStMpJ1Y"
      },
      "outputs": [],
      "source": [
        "# set the DDIM inference steps to 50\n",
        "scheduler.set_timesteps(num_inference_steps=50)"
      ]
    },
    {
      "cell_type": "code",
      "execution_count": null,
      "metadata": {
        "id": "ZD3skFLXpPZH"
      },
      "outputs": [],
      "source": [
        "import tqdm\n",
        "\n",
        "sample = noisy_sample\n",
        "\n",
        "for i, t in enumerate(tqdm.tqdm(scheduler.timesteps)):\n",
        "  # 1. predict noise residual\n",
        "  with torch.no_grad():\n",
        "      residual = model(sample, t).sample\n",
        "\n",
        "  # 2. compute previous image and set x_t -> x_t-1\n",
        "  sample = scheduler.step(residual, t, sample).prev_sample\n",
        "\n",
        "  # 3. optionally look at image\n",
        "  if (i + 1) % 10 == 0:\n",
        "      display_sample(sample, i + 1)"
      ]
    },
    {
      "cell_type": "code",
      "execution_count": null,
      "metadata": {
        "id": "uS8RNAcVpQHc"
      },
      "outputs": [],
      "source": []
    }
  ],
  "metadata": {
    "colab": {
      "authorship_tag": "ABX9TyO897TefA9g/1Z7dSIM6dIg",
      "include_colab_link": true,
      "provenance": []
    },
    "kernelspec": {
      "display_name": "Python 3",
      "name": "python3"
    },
    "language_info": {
      "name": "python"
    }
  },
  "nbformat": 4,
  "nbformat_minor": 0
}
