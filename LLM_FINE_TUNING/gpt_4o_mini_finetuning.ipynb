{
  "nbformat": 4,
  "nbformat_minor": 0,
  "metadata": {
    "colab": {
      "provenance": []
    },
    "kernelspec": {
      "name": "python3",
      "display_name": "Python 3"
    },
    "language_info": {
      "name": "python"
    }
  },
  "cells": [
    {
      "cell_type": "code",
      "execution_count": null,
      "metadata": {
        "colab": {
          "base_uri": "https://localhost:8080/"
        },
        "id": "3cRxjgrmAnna",
        "outputId": "a7db1bd1-c944-494d-c60a-f7b8ef765006"
      },
      "outputs": [
        {
          "output_type": "stream",
          "name": "stdout",
          "text": [
            "Collecting openai\n",
            "  Downloading openai-1.48.0-py3-none-any.whl.metadata (24 kB)\n",
            "Requirement already satisfied: anyio<5,>=3.5.0 in /usr/local/lib/python3.10/dist-packages (from openai) (3.7.1)\n",
            "Requirement already satisfied: distro<2,>=1.7.0 in /usr/lib/python3/dist-packages (from openai) (1.7.0)\n",
            "Collecting httpx<1,>=0.23.0 (from openai)\n",
            "  Downloading httpx-0.27.2-py3-none-any.whl.metadata (7.1 kB)\n",
            "Collecting jiter<1,>=0.4.0 (from openai)\n",
            "  Downloading jiter-0.5.0-cp310-cp310-manylinux_2_17_x86_64.manylinux2014_x86_64.whl.metadata (3.6 kB)\n",
            "Requirement already satisfied: pydantic<3,>=1.9.0 in /usr/local/lib/python3.10/dist-packages (from openai) (2.9.2)\n",
            "Requirement already satisfied: sniffio in /usr/local/lib/python3.10/dist-packages (from openai) (1.3.1)\n",
            "Requirement already satisfied: tqdm>4 in /usr/local/lib/python3.10/dist-packages (from openai) (4.66.5)\n",
            "Requirement already satisfied: typing-extensions<5,>=4.11 in /usr/local/lib/python3.10/dist-packages (from openai) (4.12.2)\n",
            "Requirement already satisfied: idna>=2.8 in /usr/local/lib/python3.10/dist-packages (from anyio<5,>=3.5.0->openai) (3.10)\n",
            "Requirement already satisfied: exceptiongroup in /usr/local/lib/python3.10/dist-packages (from anyio<5,>=3.5.0->openai) (1.2.2)\n",
            "Requirement already satisfied: certifi in /usr/local/lib/python3.10/dist-packages (from httpx<1,>=0.23.0->openai) (2024.8.30)\n",
            "Collecting httpcore==1.* (from httpx<1,>=0.23.0->openai)\n",
            "  Downloading httpcore-1.0.5-py3-none-any.whl.metadata (20 kB)\n",
            "Collecting h11<0.15,>=0.13 (from httpcore==1.*->httpx<1,>=0.23.0->openai)\n",
            "  Downloading h11-0.14.0-py3-none-any.whl.metadata (8.2 kB)\n",
            "Requirement already satisfied: annotated-types>=0.6.0 in /usr/local/lib/python3.10/dist-packages (from pydantic<3,>=1.9.0->openai) (0.7.0)\n",
            "Requirement already satisfied: pydantic-core==2.23.4 in /usr/local/lib/python3.10/dist-packages (from pydantic<3,>=1.9.0->openai) (2.23.4)\n",
            "Downloading openai-1.48.0-py3-none-any.whl (376 kB)\n",
            "\u001b[2K   \u001b[90m━━━━━━━━━━━━━━━━━━━━━━━━━━━━━━━━━━━━━━━━\u001b[0m \u001b[32m376.1/376.1 kB\u001b[0m \u001b[31m8.5 MB/s\u001b[0m eta \u001b[36m0:00:00\u001b[0m\n",
            "\u001b[?25hDownloading httpx-0.27.2-py3-none-any.whl (76 kB)\n",
            "\u001b[2K   \u001b[90m━━━━━━━━━━━━━━━━━━━━━━━━━━━━━━━━━━━━━━━━\u001b[0m \u001b[32m76.4/76.4 kB\u001b[0m \u001b[31m4.6 MB/s\u001b[0m eta \u001b[36m0:00:00\u001b[0m\n",
            "\u001b[?25hDownloading httpcore-1.0.5-py3-none-any.whl (77 kB)\n",
            "\u001b[2K   \u001b[90m━━━━━━━━━━━━━━━━━━━━━━━━━━━━━━━━━━━━━━━━\u001b[0m \u001b[32m77.9/77.9 kB\u001b[0m \u001b[31m5.4 MB/s\u001b[0m eta \u001b[36m0:00:00\u001b[0m\n",
            "\u001b[?25hDownloading jiter-0.5.0-cp310-cp310-manylinux_2_17_x86_64.manylinux2014_x86_64.whl (318 kB)\n",
            "\u001b[2K   \u001b[90m━━━━━━━━━━━━━━━━━━━━━━━━━━━━━━━━━━━━━━━━\u001b[0m \u001b[32m318.9/318.9 kB\u001b[0m \u001b[31m19.0 MB/s\u001b[0m eta \u001b[36m0:00:00\u001b[0m\n",
            "\u001b[?25hDownloading h11-0.14.0-py3-none-any.whl (58 kB)\n",
            "\u001b[2K   \u001b[90m━━━━━━━━━━━━━━━━━━━━━━━━━━━━━━━━━━━━━━━━\u001b[0m \u001b[32m58.3/58.3 kB\u001b[0m \u001b[31m4.1 MB/s\u001b[0m eta \u001b[36m0:00:00\u001b[0m\n",
            "\u001b[?25hInstalling collected packages: jiter, h11, httpcore, httpx, openai\n",
            "Successfully installed h11-0.14.0 httpcore-1.0.5 httpx-0.27.2 jiter-0.5.0 openai-1.48.0\n",
            "Requirement already satisfied: openai in /usr/local/lib/python3.10/dist-packages (1.48.0)\n",
            "Collecting tiktoken\n",
            "  Downloading tiktoken-0.7.0-cp310-cp310-manylinux_2_17_x86_64.manylinux2014_x86_64.whl.metadata (6.6 kB)\n",
            "Requirement already satisfied: anyio<5,>=3.5.0 in /usr/local/lib/python3.10/dist-packages (from openai) (3.7.1)\n",
            "Requirement already satisfied: distro<2,>=1.7.0 in /usr/lib/python3/dist-packages (from openai) (1.7.0)\n",
            "Requirement already satisfied: httpx<1,>=0.23.0 in /usr/local/lib/python3.10/dist-packages (from openai) (0.27.2)\n",
            "Requirement already satisfied: jiter<1,>=0.4.0 in /usr/local/lib/python3.10/dist-packages (from openai) (0.5.0)\n",
            "Requirement already satisfied: pydantic<3,>=1.9.0 in /usr/local/lib/python3.10/dist-packages (from openai) (2.9.2)\n",
            "Requirement already satisfied: sniffio in /usr/local/lib/python3.10/dist-packages (from openai) (1.3.1)\n",
            "Requirement already satisfied: tqdm>4 in /usr/local/lib/python3.10/dist-packages (from openai) (4.66.5)\n",
            "Requirement already satisfied: typing-extensions<5,>=4.11 in /usr/local/lib/python3.10/dist-packages (from openai) (4.12.2)\n",
            "Requirement already satisfied: regex>=2022.1.18 in /usr/local/lib/python3.10/dist-packages (from tiktoken) (2024.9.11)\n",
            "Requirement already satisfied: requests>=2.26.0 in /usr/local/lib/python3.10/dist-packages (from tiktoken) (2.32.3)\n",
            "Requirement already satisfied: idna>=2.8 in /usr/local/lib/python3.10/dist-packages (from anyio<5,>=3.5.0->openai) (3.10)\n",
            "Requirement already satisfied: exceptiongroup in /usr/local/lib/python3.10/dist-packages (from anyio<5,>=3.5.0->openai) (1.2.2)\n",
            "Requirement already satisfied: certifi in /usr/local/lib/python3.10/dist-packages (from httpx<1,>=0.23.0->openai) (2024.8.30)\n",
            "Requirement already satisfied: httpcore==1.* in /usr/local/lib/python3.10/dist-packages (from httpx<1,>=0.23.0->openai) (1.0.5)\n",
            "Requirement already satisfied: h11<0.15,>=0.13 in /usr/local/lib/python3.10/dist-packages (from httpcore==1.*->httpx<1,>=0.23.0->openai) (0.14.0)\n",
            "Requirement already satisfied: annotated-types>=0.6.0 in /usr/local/lib/python3.10/dist-packages (from pydantic<3,>=1.9.0->openai) (0.7.0)\n",
            "Requirement already satisfied: pydantic-core==2.23.4 in /usr/local/lib/python3.10/dist-packages (from pydantic<3,>=1.9.0->openai) (2.23.4)\n",
            "Requirement already satisfied: charset-normalizer<4,>=2 in /usr/local/lib/python3.10/dist-packages (from requests>=2.26.0->tiktoken) (3.3.2)\n",
            "Requirement already satisfied: urllib3<3,>=1.21.1 in /usr/local/lib/python3.10/dist-packages (from requests>=2.26.0->tiktoken) (2.2.3)\n",
            "Downloading tiktoken-0.7.0-cp310-cp310-manylinux_2_17_x86_64.manylinux2014_x86_64.whl (1.1 MB)\n",
            "\u001b[2K   \u001b[90m━━━━━━━━━━━━━━━━━━━━━━━━━━━━━━━━━━━━━━━━\u001b[0m \u001b[32m1.1/1.1 MB\u001b[0m \u001b[31m11.9 MB/s\u001b[0m eta \u001b[36m0:00:00\u001b[0m\n",
            "\u001b[?25hInstalling collected packages: tiktoken\n",
            "Successfully installed tiktoken-0.7.0\n"
          ]
        }
      ],
      "source": [
        "!pip install openai\n",
        "!pip install openai tiktoken"
      ]
    },
    {
      "cell_type": "code",
      "source": [
        "# import openai\n",
        "import json\n",
        "import tiktoken\n",
        "import os\n",
        "from openai import OpenAI\n",
        "import pandas as pd\n",
        "import random\n",
        "import numpy as np\n",
        "import matplotlib.pyplot as plt\n",
        "# from dotenv import load_dotenv\n",
        "\n",
        "# load_dotenv()\n",
        "\n",
        "# api_key = os.getenv(\"OPENAI_API_KEY\")\n",
        "\n",
        "client = OpenAI(api_key=\"your-api-key\")"
      ],
      "metadata": {
        "id": "FyGyavFXAoYa"
      },
      "execution_count": null,
      "outputs": []
    },
    {
      "cell_type": "code",
      "source": [
        "def num_tokens_from_string(string: str, encoding_name: str) -> int:\n",
        "    encoding = tiktoken.get_encoding(encoding_name)\n",
        "    max_tokens = len(encoding.encode(string))\n",
        "    return max_tokens\n",
        "\n",
        "tokenizer = tiktoken.get_encoding(\"cl100k_base\")"
      ],
      "metadata": {
        "id": "xziLSGtFAu7D"
      },
      "execution_count": null,
      "outputs": []
    },
    {
      "cell_type": "code",
      "source": [
        "%%writefile data.jsonl\n",
        "{\"messages\": [{\"role\": \"system\", \"content\": \"You are a polite and helpful assistant speaking in Hindi/Hinglish, assisting users with queries.\"}, {\"role\": \"user\", \"content\": \"\"}, {\"role\": \"assistant\", \"content\": \"Hello! mei Nancy bolrhi hu UniScholars se. Kya mai Prakhar se baat kar rahi hu?\"}]}\n",
        "{\"messages\": [{\"role\": \"system\", \"content\": \"You are a polite and helpful assistant speaking in Hindi/Hinglish, assisting users with queries.\"}, {\"role\": \"user\", \"content\": \"Ji bataaiye?\"}, {\"role\": \"assistant\", \"content\": \"abhi aapke paas abroad mein padhai ke plans ke baare mein baat karne ka time hai?\"}]}\n",
        "{\"messages\": [{\"role\": \"system\", \"content\": \"You are a polite and helpful assistant speaking in Hindi/Hinglish, assisting users with queries.\"}, {\"role\": \"user\", \"content\": \"abhi mai thoda busy hu.\"}, {\"role\": \"assistant\", \"content\": \"Theek hae, mae aapko [specified time] par wapas call karoongi... Aapka din shubh ho\"}]}\n",
        "{\"messages\": [{\"role\": \"system\", \"content\": \"You are a polite and helpful assistant speaking in Hindi/Hinglish, assisting users with queries.\"}, {\"role\": \"user\", \"content\": \"han boliye\"}, {\"role\": \"assistant\", \"content\": \"Aap UK mein January 25 ke liye university dekh rahe hain?\"}]}\n",
        "{\"messages\": [{\"role\": \"system\", \"content\": \"You are a polite and helpful assistant speaking in Hindi/Hinglish, assisting users with queries.\"}, {\"role\": \"user\", \"content\": \"mujhe thoda kam idea hai iske baare me etc.\"}, {\"role\": \"assistant\", \"content\": \"koi baat nahi! Hamaare expert counselors aapko option explore karne mae help kar sakte hain.\"}]}\n",
        "{\"messages\": [{\"role\": \"system\", \"content\": \"You are a polite and helpful assistant speaking in Hindi/Hinglish, assisting users with queries.\"}, {\"role\": \"user\", \"content\": \"nahi/नहीं\"}, {\"role\": \"assistant\", \"content\": \"koi issue nahi.! Aap kis country mae padhna chahte hain aur aapka intake year kya hai??\"}]}\n",
        "{\"messages\": [{\"role\": \"system\", \"content\": \"You are a polite and helpful assistant speaking in Hindi/Hinglish, assisting users with queries.\"}, {\"role\": \"user\", \"content\": \"mai interested nahi hu/मैं interested नहीं हूँ\"}, {\"role\": \"assistant\", \"content\": \"Koi baat nahi! Aapke samay ke liye shukriya!\"}]}\n",
        "{\"messages\": [{\"role\": \"system\", \"content\": \"You are a polite and helpful assistant speaking in Hindi/Hinglish, assisting users with queries.\"}, {\"role\": \"user\", \"content\": \"\"}, {\"role\": \"assistant\", \"content\": \"kya aapke paas valid Indian passport hai?\"}]}\n",
        "{\"messages\": [{\"role\": \"system\", \"content\": \"You are a polite and helpful assistant speaking in Hindi/Hinglish, assisting users with queries.\"}, {\"role\": \"user\", \"content\": \"ji\"}, {\"role\": \"assistant\", \"content\": \"Bahut badiya Prakhar!\"}]}\n",
        "{\"messages\": [{\"role\": \"system\", \"content\": \"You are a polite and helpful assistant speaking in Hindi/Hinglish, assisting users with queries.\"}, {\"role\": \"user\", \"content\": \"han kar लिया है\"}, {\"role\": \"assistant\", \"content\": \"Bahut accha ki aapne passport ke liye apply kar diya hai. Chalo next step pe chalte hain.\"}]}\n",
        "{\"messages\": [{\"role\": \"system\", \"content\": \"You are a polite and helpful assistant speaking in Hindi/Hinglish, assisting users with queries.\"}, {\"role\": \"user\", \"content\": \"nahi/नहीं\"}, {\"role\": \"assistant\", \"content\": \"lagta hae aapke paas abhi valid passport nahi hai.. jo abroad mein padhne ke liye zaroori hai. mae aapko passport application ki link bhej deti hu.. jisse aapka aage ka process shuru ho sake.\"}]}\n",
        "{\"messages\": [{\"role\": \"system\", \"content\": \"You are a polite and helpful assistant speaking in Hindi/Hinglish, assisting users with queries.\"}, {\"role\": \"user\", \"content\": \"ji\"}, {\"role\": \"assistant\", \"content\": \"Aakhri question, kya aapne abroad mein padhai ke liye apna budget socha hai?\"}]}\n",
        "{\"messages\": [{\"role\": \"system\", \"content\": \"You are a polite and helpful assistant speaking in Hindi/Hinglish, assisting users with queries.\"}, {\"role\": \"user\", \"content\": \"abhi सोचूंगा\"}, {\"role\": \"assistant\", \"content\": \"koi baat nahi agar aapne abhi tak decide nahi kiya hai. Hamare counselors aapse financial options discuss kar sakte hain.\"}]}\n",
        "{\"messages\": [{\"role\": \"system\", \"content\": \"You are a polite and helpful assistant speaking in Hindi/Hinglish, assisting users with queries.\"}, {\"role\": \"user\", \"content\": \"han\"}, {\"role\": \"assistant\", \"content\": \"kya aapne apna application process shuru kar diya hai?\"}]}\n",
        "{\"messages\": [{\"role\": \"system\", \"content\": \"You are a polite and helpful assistant speaking in Hindi/Hinglish, assisting users with queries.\"}, {\"role\": \"user\", \"content\": \"hanji\"}, {\"role\": \"assistant\", \"content\": \"Bahut badiya! Kya aapko applications complete karne mein koi help chahiye?\"}]}\n",
        "{\"messages\": [{\"role\": \"system\", \"content\": \"You are a polite and helpful assistant speaking in Hindi/Hinglish, assisting users with queries.\"}, {\"role\": \"user\", \"content\": \"\"}, {\"role\": \"assistant\", \"content\": \"Okay. Aapki applications ke liye best of luck. Agar kuch bhi help chahiye ho to zarur poochiye!\"}]}\n",
        "{\"messages\": [{\"role\": \"system\", \"content\": \"You are a polite and helpful assistant speaking in Hindi/Hinglish, assisting users with queries.\"}, {\"role\": \"user\", \"content\": \"मैंने admission ले लिया है\"}, {\"role\": \"assistant\", \"content\": \"Congrats! Kya aapko accommodation, visa, ya kisi aur cheez mae help chahiye?\"}]}\n",
        "{\"messages\": [{\"role\": \"system\", \"content\": \"You are a polite and helpful assistant speaking in Hindi/Hinglish, assisting users with queries.\"}, {\"role\": \"user\", \"content\": \"मैंने admission ले लिया है\"}, {\"role\": \"assistant\", \"content\": \"Bahut badiya! Aapki abroad mein padhai ke liye best wishes!\"}]}\n",
        "{\"messages\": [{\"role\": \"system\", \"content\": \"You are a polite and helpful assistant speaking in Hindi/Hinglish, assisting users with queries.\"}, {\"role\": \"user\", \"content\": \"Okay\"}, {\"role\": \"assistant\", \"content\": \"mae aapko ek senior counselor se connect karti hu jo aapke abroad mein padhne ki planning mein help karenge. Aapke liye kaunsa time theek rahega?\"}]}\n",
        "{\"messages\": [{\"role\": \"system\", \"content\": \"You are a polite and helpful assistant speaking in Hindi/Hinglish, assisting users with queries.\"}, {\"role\": \"user\", \"content\": \"कल शाम 6 बजे कर सकते हैं\"}, {\"role\": \"assistant\", \"content\": \"Perfect! maine aapke liye 24 August, 1 July ko [time] baje counseling session book kar liya hai. Aapko jaldi hi email ya text mein saari details mil jaayengi.\"}]}\n",
        "{\"messages\": [{\"role\": \"system\", \"content\": \"You are a polite and helpful assistant speaking in Hindi/Hinglish, assisting users with queries.\"}, {\"role\": \"user\", \"content\": \"ठीक है\"}, {\"role\": \"assistant\", \"content\": \"Prakhar, aapke time ke liye bahut shukriya. Hum aapki abroad mein padhai ki journey mein madat karne ke liye excited hain. Aapka din shubh ho.\"}]}"
      ],
      "metadata": {
        "colab": {
          "base_uri": "https://localhost:8080/"
        },
        "id": "Ec1SARsaAyHv",
        "outputId": "9f421efa-c8a9-4634-ae54-a53fd9835961"
      },
      "execution_count": null,
      "outputs": [
        {
          "output_type": "stream",
          "name": "stdout",
          "text": [
            "Writing data.jsonl\n"
          ]
        }
      ]
    },
    {
      "cell_type": "code",
      "source": [
        "with open('data.jsonl', 'r') as f:\n",
        "    dataset = f.read()\n",
        "\n",
        "token_count = num_tokens_from_string(dataset, \"cl100k_base\")\n",
        "print(f\"total tokens in the dataset: {token_count}\")"
      ],
      "metadata": {
        "colab": {
          "base_uri": "https://localhost:8080/"
        },
        "id": "RV2GxAoGA0LB",
        "outputId": "35d157b0-c261-4d77-e488-658d87538b51"
      },
      "execution_count": null,
      "outputs": [
        {
          "output_type": "stream",
          "name": "stdout",
          "text": [
            "total tokens in the dataset: 1945\n"
          ]
        }
      ]
    },
    {
      "cell_type": "code",
      "source": [
        "import openai"
      ],
      "metadata": {
        "id": "GCiie50vA76D"
      },
      "execution_count": null,
      "outputs": []
    },
    {
      "cell_type": "code",
      "source": [
        "response = client.files.create(file=open('data.jsonl', 'rb'), purpose=\"fine-tune\")\n",
        "\n",
        "file_id = response.id\n",
        "print(f\"file uploaded successfully. file ID: {file_id}\")"
      ],
      "metadata": {
        "colab": {
          "base_uri": "https://localhost:8080/"
        },
        "id": "jtu0euxtA27d",
        "outputId": "40648285-c8a0-49af-b2c3-05e744d343a2"
      },
      "execution_count": null,
      "outputs": [
        {
          "output_type": "stream",
          "name": "stdout",
          "text": [
            "file uploaded successfully. file ID: file-ryirVEd9m3zNjDvOtQvae0Pt\n"
          ]
        }
      ]
    },
    {
      "cell_type": "code",
      "source": [
        "job = client.fine_tuning.jobs.create(\n",
        "    training_file=file_id,\n",
        "    model=\"gpt-4o-mini-2024-07-18\"\n",
        ")\n",
        "\n",
        "job_id = job.id\n",
        "print(f\"Fine-tuning job created. Job ID: {job_id}\")"
      ],
      "metadata": {
        "colab": {
          "base_uri": "https://localhost:8080/"
        },
        "id": "evRGaoSEA5XO",
        "outputId": "1266102c-0d04-4f3b-b37d-a0dbbd30193a"
      },
      "execution_count": null,
      "outputs": [
        {
          "output_type": "stream",
          "name": "stdout",
          "text": [
            "Fine-tuning job created. Job ID: ftjob-0y3lJxf9DsXGBSlsNd6W6q01\n"
          ]
        }
      ]
    },
    {
      "cell_type": "code",
      "source": [
        "job_status = client.fine_tuning.jobs.retrieve(job_id)\n",
        "print(f\"Job status: {job_status.status}\")\n",
        "print(f\"Job status11: {job_status}\")"
      ],
      "metadata": {
        "colab": {
          "base_uri": "https://localhost:8080/"
        },
        "id": "OPEas4RJF24h",
        "outputId": "10d8b5c0-386c-4359-d694-0abf919f609b"
      },
      "execution_count": null,
      "outputs": [
        {
          "output_type": "stream",
          "name": "stdout",
          "text": [
            "Job status: succeeded\n",
            "Job status11: FineTuningJob(id='ftjob-0y3lJxf9DsXGBSlsNd6W6q01', created_at=1727350987, error=Error(code=None, message=None, param=None), fine_tuned_model='ft:gpt-4o-mini-2024-07-18:beyondschool::ABhHz3Fc', finished_at=1727351373, hyperparameters=Hyperparameters(n_epochs=4, batch_size=1, learning_rate_multiplier=1.8), model='gpt-4o-mini-2024-07-18', object='fine_tuning.job', organization_id='org-DdOcuNzZWrnDDiURMKP2bU7d', result_files=['file-974oX7abFsot2KaYkuyYGMAd'], seed=381571030, status='succeeded', trained_tokens=5312, training_file='file-ryirVEd9m3zNjDvOtQvae0Pt', validation_file=None, estimated_finish=None, integrations=[], user_provided_suffix=None)\n"
          ]
        }
      ]
    },
    {
      "cell_type": "code",
      "source": [
        "# List up to 10 events from a fine-tuning job\n",
        "client.fine_tuning.jobs.list_events(fine_tuning_job_id=job_id, limit=1)"
      ],
      "metadata": {
        "colab": {
          "base_uri": "https://localhost:8080/"
        },
        "id": "j9Ix6bH0I7Tk",
        "outputId": "58600732-ee0e-4cef-e8d1-aed089e43e6e"
      },
      "execution_count": null,
      "outputs": [
        {
          "output_type": "execute_result",
          "data": {
            "text/plain": [
              "SyncCursorPage[FineTuningJobEvent](data=[FineTuningJobEvent(id='ftevent-9Cc6F5p4IpN0ZaTdo5OZH19e', created_at=1727351382, level='info', message='The job has successfully completed', object='fine_tuning.job.event', data={}, type='message')], object='list', has_more=True)"
            ]
          },
          "metadata": {},
          "execution_count": 26
        }
      ]
    },
    {
      "cell_type": "code",
      "source": [
        "# Now use fine tuned model\n",
        "\n",
        "convo = \"\"\"Agent: Hello\n",
        "User: Hello?\n",
        "Agent: Hi, I am Nancy from UniScholars. Am I speaking with Shubh?\n",
        "User: Yes.\n",
        "Agent: Is this a good time to talk regarding your study abroad plans?\n",
        "User: Sorry. But right now, I'm Busy.\n",
        "Agent: Thank you for choosing UniScholars to support your study abroad goals! I'll call you back at a better time. Have a great day!\n",
        "User: Okay.\n",
        "User: Thank\n",
        "Agent: Thank\n",
        "User: you. Bye bye.\n",
        "Agent: you! Looking forward to our next conversation.\"\"\"\n",
        "\n",
        "messages = [\n",
        "    {\"role\": \"system\", \"content\": \"You are a chatbot who summarizes conversations.\"},\n",
        "    {\"role\": \"user\", \"content\": convo}\n",
        "]\n",
        "\n",
        "input_tokens = sum(num_tokens_from_string(message['content'], \"cl100k_base\") for message in messages)\n",
        "print(f\"Input tokens: {input_tokens}\")\n",
        "\n",
        "completion = client.chat.completions.create(\n",
        "    model=job_status.fine_tuned_model,\n",
        "    messages=messages\n",
        ")\n",
        "\n",
        "\"ft:gpt-4o-mini-2024-07-18:beyondschool::ABhHz3Fc\"\n",
        "\n",
        "completion_og_gpt_4o_mini = client.chat.completions.create(\n",
        "    model=\"gpt-4o-mini\",\n",
        "    messages=messages\n",
        ")\n",
        "\n",
        "response = completion.choices[0].message.content\n",
        "print(\"Model Response - ft:\", response)\n",
        "\n",
        "response2 = completion_og_gpt_4o_mini.choices[0].message.content\n",
        "print(\"Model Response - og_gpt_4o_mini:\", response2)\n",
        "\n",
        "output_tokens = num_tokens_from_string(response, \"cl100k_base\")\n",
        "print(f\"Output tokens: {output_tokens}\")\n",
        "\n",
        "total_tokens = input_tokens + output_tokens\n",
        "print(f\"Total tokens used: {total_tokens}\")"
      ],
      "metadata": {
        "colab": {
          "base_uri": "https://localhost:8080/"
        },
        "id": "v-PhIXBVHOdB",
        "outputId": "7bc3fd93-d26b-40a2-e3da-3b36014e9bad"
      },
      "execution_count": null,
      "outputs": [
        {
          "output_type": "stream",
          "name": "stdout",
          "text": [
            "Input tokens: 129\n",
            "Model Response - ft: The user, Shubh, informed Nancy from UniScholars that he was busy and unable to discuss his study abroad plans at that moment. Nancy acknowledged the user's situation and mentioned calling back at a better time. The call ended on a polite note, with both parties looking forward to future communication.\n",
            "Model Response - og_gpt_4o_mini: The conversation starts with the agent, Nancy from UniScholars, greeting the user, Shubh, and inquiring about discussing study abroad plans. Shubh indicates they are busy and unable to talk at the moment. Nancy acknowledges this and offers to call back later, wishing Shubh a great day. The conversation ends with polite farewells.\n",
            "Output tokens: 61\n",
            "Total tokens used: 190\n"
          ]
        }
      ]
    },
    {
      "cell_type": "code",
      "source": [
        "class solution:\n",
        "    def sorting4(self, n, arr, l):\n",
        "        arr.sort()\n",
        "        count = 0\n",
        "        for i in range(n-2):\n",
        "            j = i+2\n",
        "            while j<n and arr[j] - arr[i] <= 1:\n",
        "                count += (j-i-1)\n",
        "                j+=1\n",
        "        return count\n",
        "\n",
        "if __name__=='__main__':\n",
        "    n=int(input())\n",
        "    arr = list(map(int, input().split()))\n",
        "    l = int(input())\n",
        "    obj = solution()\n",
        "    onj.sorting4(n, arr, l)\n"
      ],
      "metadata": {
        "id": "f_RakVQPImrC"
      },
      "execution_count": null,
      "outputs": []
    }
  ]
}